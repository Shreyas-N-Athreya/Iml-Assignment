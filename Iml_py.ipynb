{
  "nbformat": 4,
  "nbformat_minor": 0,
  "metadata": {
    "colab": {
      "provenance": [],
      "authorship_tag": "ABX9TyNeeoabliauSP65JBGoMZ7x",
      "include_colab_link": true
    },
    "kernelspec": {
      "name": "python3",
      "display_name": "Python 3"
    },
    "language_info": {
      "name": "python"
    }
  },
  "cells": [
    {
      "cell_type": "markdown",
      "metadata": {
        "id": "view-in-github",
        "colab_type": "text"
      },
      "source": [
        "<a href=\"https://colab.research.google.com/github/Shreyas-N-Athreya/Iml-Assignment/blob/main/Iml_py.ipynb\" target=\"_parent\"><img src=\"https://colab.research.google.com/assets/colab-badge.svg\" alt=\"Open In Colab\"/></a>"
      ]
    },
    {
      "cell_type": "code",
      "execution_count": 2,
      "metadata": {
        "colab": {
          "base_uri": "https://localhost:8080/"
        },
        "id": "ophD6kNr6xeH",
        "outputId": "1c7ea07f-650b-4e2c-ad4c-686f06e5f4ba"
      },
      "outputs": [
        {
          "output_type": "stream",
          "name": "stdout",
          "text": [
            "Correct prediction: [6.1 2.8 4.7 1.2] -> versicolor\n",
            "Correct prediction: [5.7 3.8 1.7 0.3] -> setosa\n",
            "Correct prediction: [7.7 2.6 6.9 2.3] -> virginica\n",
            "Correct prediction: [6.  2.9 4.5 1.5] -> versicolor\n",
            "Correct prediction: [6.8 2.8 4.8 1.4] -> versicolor\n",
            "Correct prediction: [5.4 3.4 1.5 0.4] -> setosa\n",
            "Correct prediction: [5.6 2.9 3.6 1.3] -> versicolor\n",
            "Correct prediction: [6.9 3.1 5.1 2.3] -> virginica\n",
            "Correct prediction: [6.2 2.2 4.5 1.5] -> versicolor\n",
            "Correct prediction: [5.8 2.7 3.9 1.2] -> versicolor\n",
            "Correct prediction: [6.5 3.2 5.1 2. ] -> virginica\n",
            "Correct prediction: [4.8 3.  1.4 0.1] -> setosa\n",
            "Correct prediction: [5.5 3.5 1.3 0.2] -> setosa\n",
            "Correct prediction: [4.9 3.1 1.5 0.1] -> setosa\n",
            "Correct prediction: [5.1 3.8 1.5 0.3] -> setosa\n",
            "Correct prediction: [6.3 3.3 4.7 1.6] -> versicolor\n",
            "Correct prediction: [6.5 3.  5.8 2.2] -> virginica\n",
            "Correct prediction: [5.6 2.5 3.9 1.1] -> versicolor\n",
            "Correct prediction: [5.7 2.8 4.5 1.3] -> versicolor\n",
            "Correct prediction: [6.4 2.8 5.6 2.2] -> virginica\n",
            "Correct prediction: [4.7 3.2 1.6 0.2] -> setosa\n",
            "Correct prediction: [6.1 3.  4.9 1.8] -> virginica\n",
            "Correct prediction: [5.  3.4 1.6 0.4] -> setosa\n",
            "Correct prediction: [6.4 2.8 5.6 2.1] -> virginica\n",
            "Correct prediction: [7.9 3.8 6.4 2. ] -> virginica\n",
            "Correct prediction: [6.7 3.  5.2 2.3] -> virginica\n",
            "Correct prediction: [6.7 2.5 5.8 1.8] -> virginica\n",
            "Correct prediction: [6.8 3.2 5.9 2.3] -> virginica\n",
            "Correct prediction: [4.8 3.  1.4 0.3] -> setosa\n",
            "Correct prediction: [4.8 3.1 1.6 0.2] -> setosa\n"
          ]
        }
      ],
      "source": [
        "import numpy as np\n",
        "from sklearn.datasets import load_iris\n",
        "from sklearn.model_selection import train_test_split\n",
        "from sklearn.neighbors import KNeighborsClassifier\n",
        "\n",
        "# Load the Iris dataset\n",
        "iris = load_iris()\n",
        "X = iris.data\n",
        "y = iris.target\n",
        "\n",
        "# Split the dataset into training and testing sets\n",
        "X_train, X_test, y_train, y_test = train_test_split(X, y, test_size=0.2, random_state=42)\n",
        "\n",
        "# Create a KNN classifier with k=3\n",
        "knn = KNeighborsClassifier(n_neighbors=3)\n",
        "\n",
        "# Fit the classifier to the training data\n",
        "knn.fit(X_train, y_train)\n",
        "\n",
        "# Predict the labels for the test set\n",
        "y_pred = knn.predict(X_test)\n",
        "\n",
        "# Print the correct and wrong predictions\n",
        "for i in range(len(y_test)):\n",
        "    if y_pred[i] == y_test[i]:\n",
        "        print(f\"Correct prediction: {X_test[i]} -> {iris.target_names[y_pred[i]]}\")\n",
        "    else:\n",
        "        print(f\"Wrong prediction: {X_test[i]} -> Predicted: {iris.target_names[y_pred[i]]}, Actual: {iris.target_names[y_test[i]]}\")"
      ]
    }
  ]
}